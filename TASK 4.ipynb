{
 "cells": [
  {
   "cell_type": "markdown",
   "id": "3e6748bf",
   "metadata": {},
   "source": [
    "# CodeClause Data Science Intern\n",
    "\n",
    "\n",
    "# TASK 4 : Business Advisor Chatbot (Golden Projects)\n",
    "\n",
    "## Name : OMER ABDULLAH"
   ]
  },
  {
   "cell_type": "code",
   "execution_count": 1,
   "id": "f8c0f20c",
   "metadata": {},
   "outputs": [],
   "source": [
    "from newspaper import Article\n",
    "import random \n",
    "import string\n",
    "import nltk\n",
    "from sklearn.feature_extraction.text import CountVectorizer\n",
    "from sklearn.metrics.pairwise import cosine_similarity\n",
    "import numpy as np\n",
    "import warnings\n",
    "warnings.filterwarnings('ignore')"
   ]
  },
  {
   "cell_type": "code",
   "execution_count": 2,
   "id": "ba5a8728",
   "metadata": {},
   "outputs": [
    {
     "data": {
      "text/plain": [
       "True"
      ]
     },
     "execution_count": 2,
     "metadata": {},
     "output_type": "execute_result"
    }
   ],
   "source": [
    "nltk.download('punkt', quiet=True)"
   ]
  },
  {
   "cell_type": "code",
   "execution_count": 3,
   "id": "28f49349",
   "metadata": {},
   "outputs": [],
   "source": [
    "from nltk.translate.chrf_score import corpus_chrf\n",
    "article=Article('https://www.grantthornton.in/en/insights/blogs/taxability-of-liquidated-damages-penalties-and-similar-charges/')\n",
    "article.download()\n",
    "article.parse()\n",
    "article.nlp()\n",
    "corpus=article.text\n"
   ]
  },
  {
   "cell_type": "code",
   "execution_count": 4,
   "id": "2372fd91",
   "metadata": {},
   "outputs": [
    {
     "name": "stdout",
     "output_type": "stream",
     "text": [
      "An essential requisite of any contract is a timely discharge of agreed terms and conditions. A failure to do so usually results in payment of damages by one party to another to indemnify against losses. Such damages are referred to as penalty or liquidated damages.\n",
      "\n",
      "Black Law dictionary defines liquidated damages as “Cash compensation, agreed to by signed, written contract for breach of contract, payable to the aggrieved party.” In simpler terms, the liquidated damage refers to compensation paid by one party to another party for non-performance of any obligation agreed to in the contract. Similarly, there are different types of penalties or compensations imposed for non-fulfilment of terms. For instance, compensation to the employer for not serving the minimum agreed period is known as notice pay, compensation paid for cancelling the intended supply is known as cancellation charges and so on.\n",
      "\n",
      "Taxability of liquidated damages, penalties, notice pay, etc.\n",
      "\n",
      "The taxability of payment of damages, penalties, compensation has always been unsettled. Under the erstwhile Service Tax law, Section 66E of the Finance Act 1994 included an entry “agreeing to the obligation to refrain from an act, or to tolerate an act or a situation, or to do an act” as declared service. Similar approach was adopted in the Goods and Service Tax (GST) regime by inserting entry 5(e) in Schedule II of CGST Act, 2017 that classified such transactions as a supply of service.\n",
      "\n",
      "Basis the above-mentioned legal provisions, the tax authorities have interpreted the liquidated damages, notice pay, cheques dishonour charges, etc. to be taxable. On the other hand, various courts have pronounced contrasting judgements on the taxability of the said transaction.\n",
      "\n",
      "The following are few of the judicial precedents which held the service to be taxable:\n",
      "\n",
      "In the matter of Maharashtra State Power Generation Company Ltd., Authority of Advance Ruling (AAR) and Appellate Authority of Advance Ruling (AAAR) of Maharashtra has held that liquidated damages are to be viewed as consideration for an act of tolerance of non-performance, and thus are subject to GST at 18%. (GST-ARA- 15/2017-18/B-30)\n",
      "\n",
      "In the matter of Bajaj Finance Limited, AAR of Maharashtra held that cheque dishonour charges are the act of delay by one party which is tolerated by the financial institution and would be taxable under entry 5(e) of the Schedule II of the CGST Act 2017. (GST-ARA-25/2020-21/B-05)\n",
      "\n",
      "In Fastrack Deal Comm Pvt. Ltd. matter, Gujarat AAR held that the GST is leviable on the amount forfeited on account of breach of agreement of sale of land as it is a supply of service as per entry 5(e) of Schedule II. (GUJ/GAAR/R/58/2020)\n",
      "\n",
      "On the contrary, following judgments by courts posed a different view of the said transaction to not be taxable under the indirect tax laws:\n",
      "\n",
      "The Hon’ble High Court of Madras in the matter of GE T&D India held that notice pay is not taxable under service tax as the employer has not “tolerated” an act of the employee. Rather, employer has permitted a sudden exit upon being compensated by the employee in this regard. (W.P.Nos .35728 to 35734 of 2016)\n",
      "\n",
      "In the matter of CST Vs Repco Home Finance Ltd., the larger bench of CESTAT Chennai held that service tax is not levied on the foreclosure charges charged by the bank as it is recovered as compensation for disruption of a service and not towards lending services. Further, it held that no service is sought to have been rendered by the banks to borrowers against the charges. (Service Tax Appeal No. 511 of 2011-LB)\n",
      "\n",
      "The Hon’ble High Court of Bombay in the matter of Bai Mumbai Trust Vs Suchitra pronounced that the services of Court Receiver are to be considered as services provided by the Court itself and it is specifically excluded from definition of supply as per schedule III. Also, held that compensation paid as damages for violation of a legal obligation was not a supply under GST. (Court Receiver’s Report No. 213 Of 2017 in Commercial Suit (L) No. 236 of 2017)\n",
      "\n",
      "With the contrasting view of the authorities, the matter has always been controversial and problematic for the taxpayers.\n",
      "\n",
      "Recent clarification (Circular No. 178/10/2022-GST dated 3rd August 2022)\n",
      "\n",
      "To remove the ambiguities and resolve the litigative point of views, the Central Board of Indirect Taxes and Customs (Board) issued a circular clarifying the applicability of GST on various charges arising out of the breach of contract. The Board has divided and explained the scope of entry 5(e) in Schedule II in following three segments:\n",
      "\n",
      "Agreeing to the obligation to refrain from an act\n",
      "\n",
      "Agreeing to the obligation to tolerate an act or a situation\n",
      "\n",
      "Agreeing to the obligation to do an act\n",
      "\n",
      "As per the clarification, to classify any transaction under the scope of relevant entry of Schedule II, there should be nexus between the supply (i.e., agreement to do or to abstain from doing something) and consideration. In addition to the said nexus, following essentials are required to classify the activity or transaction under the relevant entry:\n",
      "\n",
      "There must be a contract or agreement (whether implied or expressed) for the activity or transaction\n",
      "\n",
      "The contractual obligation should be an independent arrangement. It could be independent stand-alone contract or may form part of another contract\n",
      "\n",
      "Consideration must flow in return from one party to another party of the agreement/contract\n",
      "\n",
      "Further, the Board issued a detailed clarification on the following transactions:\n",
      "\n",
      "Liquidated damages are not taxable as mere flow of money from the party who caused the breach of contract would not constitute as a consideration to supply. If, the payment classifies to be consideration then the charges would be taxable. Further, the damages received are payments for not tolerating the breach of contract and deterring non-performance.\n",
      "\n",
      "Compensation for cancellation of coal blocks is not taxable as it is clarified that the compensation is as per terms of order of Supreme court (or other judicial forums as per intention) and not because of contract between the Government and allotees.\n",
      "\n",
      "Cheque Dishonour penalty is not taxable as the fine cannot be said to be consideration for any service and is imposed for not tolerating, penalising, and discouraging such act.\n",
      "\n",
      "Penalty imposed for violation of laws is not taxable under GST as the fine is not for tolerating the violation but for not tolerating, penalising, and discouraging such violation of law. Further, no contract or agreement between the violator and the Government exists.\n",
      "\n",
      "Forfeiture of salary or payment of bond amount in the event of the employee leaving the employment before the minimum agreed period is not taxable as the employee does not get anything in return from employer against the payment of bond amount and thus cannot be said to be consideration. Also, the charges are for discouraging non serious candidates from taking employment.\n",
      "\n",
      "Compensation for not collecting toll charges is classified as not taxable as the nature of the service provided by toll operators remains same irrespective of the fact from whom the consideration has been received.\n",
      "\n",
      "Late payment surcharge or fee is a facility granted for accepting late payment. It is an ancillary supply supplied in conjunction with the principal supply. Therefore, it should be assessed at the same rate as the principal supply.\n",
      "\n",
      "Fixed Capacity Charges for power is not taxable as it cannot be said to be a charge for tolerating the act of not consuming the electricity or consuming at least minimum contracted electricity. Further, they are charged for sale of electricity and electricity is exempt from GST.\n",
      "\n",
      "Cancellation charges charged for allowing cancellation of an intended supply should be assessed at same rate as the principal supply.\n",
      "\n",
      "Further, forfeiture of earnest deposit is not taxable as it is a mere flow of money and cannot be considered as consideration for tolerating the act.\n",
      "\n",
      "It has been highlighted that taxability for the said transactions shall vary from case-to-case basis. Therefore, each activity needs to be analysed in detail as to whether it could be classified under the service by way of agreeing to the obligation to refrain from an act or to tolerate an act or to do an act.\n",
      "\n",
      "Open Issues\n",
      "\n",
      "The circular has unquestionably been successful at solving a good deal of queries related to taxability of liquidated damages, notice pay and various penalties. However, some issues such as the following continue to remain open:\n",
      "\n",
      "Taxes collected by the authorities on said transactions till now is in violation of Article 265 of the Constitution of India as taxes were imposed without the authority of law\n",
      "\n",
      "Circulars issued by authorities are never binding on the Courts or taxpayers. Therefore, the taxpayers may opt not to follow the clarification where the position under the tax is not beneficial for them which would ultimately lead to extensive litigations\n",
      "\n",
      "Whether the recipients who availed input tax credit for the supply would be required to reverse the same\n",
      "\n",
      "Whether the supplier can file an application for refund of taxes paid for the supply of such services if the tax incidence is not passed\n",
      "\n",
      "Further course of action with respect to the ongoing proceedings at different levels on this matter\n",
      "\n",
      "For taxability of liquidated damages, one must analyse whether the payment constitutes consideration for independent contract or not. Accordingly, the authorities are still in power to decide the taxability of such payments which would lead to further litigations\n",
      "\n",
      "Ambiguity exists with respect to classification of forfeiture of earnest money as liquidated damages or cancellation charges\n",
      "\n",
      "The circular stated pre-payment penalty charges in case of early repayment of loan to be a supply ancillary to the principal supply. Whereas the larger bench of CESTAT Chennai (as cited above) has given a contrasting opinion on the foreclosure charges charged by the financial institutions\n",
      "\n",
      "Although the clarification has been observed as a welcome move by the industry, which was long overdue, the subsequent concerns that have emerged are required to be resolved by the Board once and for all.\n"
     ]
    }
   ],
   "source": [
    "print(corpus)"
   ]
  },
  {
   "cell_type": "code",
   "execution_count": 5,
   "id": "e37c77e4",
   "metadata": {},
   "outputs": [
    {
     "name": "stdout",
     "output_type": "stream",
     "text": [
      "['An essential requisite of any contract is a timely discharge of agreed terms and conditions.', 'A failure to do so usually results in payment of damages by one party to another to indemnify against losses.', 'Such damages are referred to as penalty or liquidated damages.', 'Black Law dictionary defines liquidated damages as “Cash compensation, agreed to by signed, written contract for breach of contract, payable to the aggrieved party.” In simpler terms, the liquidated damage refers to compensation paid by one party to another party for non-performance of any obligation agreed to in the contract.', 'Similarly, there are different types of penalties or compensations imposed for non-fulfilment of terms.', 'For instance, compensation to the employer for not serving the minimum agreed period is known as notice pay, compensation paid for cancelling the intended supply is known as cancellation charges and so on.', 'Taxability of liquidated damages, penalties, notice pay, etc.', 'The taxability of payment of damages, penalties, compensation has always been unsettled.', 'Under the erstwhile Service Tax law, Section 66E of the Finance Act 1994 included an entry “agreeing to the obligation to refrain from an act, or to tolerate an act or a situation, or to do an act” as declared service.', 'Similar approach was adopted in the Goods and Service Tax (GST) regime by inserting entry 5(e) in Schedule II of CGST Act, 2017 that classified such transactions as a supply of service.', 'Basis the above-mentioned legal provisions, the tax authorities have interpreted the liquidated damages, notice pay, cheques dishonour charges, etc.', 'to be taxable.', 'On the other hand, various courts have pronounced contrasting judgements on the taxability of the said transaction.', 'The following are few of the judicial precedents which held the service to be taxable:\\n\\nIn the matter of Maharashtra State Power Generation Company Ltd., Authority of Advance Ruling (AAR) and Appellate Authority of Advance Ruling (AAAR) of Maharashtra has held that liquidated damages are to be viewed as consideration for an act of tolerance of non-performance, and thus are subject to GST at 18%.', '(GST-ARA- 15/2017-18/B-30)\\n\\nIn the matter of Bajaj Finance Limited, AAR of Maharashtra held that cheque dishonour charges are the act of delay by one party which is tolerated by the financial institution and would be taxable under entry 5(e) of the Schedule II of the CGST Act 2017.', '(GST-ARA-25/2020-21/B-05)\\n\\nIn Fastrack Deal Comm Pvt.', 'Ltd. matter, Gujarat AAR held that the GST is leviable on the amount forfeited on account of breach of agreement of sale of land as it is a supply of service as per entry 5(e) of Schedule II.', '(GUJ/GAAR/R/58/2020)\\n\\nOn the contrary, following judgments by courts posed a different view of the said transaction to not be taxable under the indirect tax laws:\\n\\nThe Hon’ble High Court of Madras in the matter of GE T&D India held that notice pay is not taxable under service tax as the employer has not “tolerated” an act of the employee.', 'Rather, employer has permitted a sudden exit upon being compensated by the employee in this regard.', '(W.P.Nos .35728 to 35734 of 2016)\\n\\nIn the matter of CST Vs Repco Home Finance Ltd., the larger bench of CESTAT Chennai held that service tax is not levied on the foreclosure charges charged by the bank as it is recovered as compensation for disruption of a service and not towards lending services.', 'Further, it held that no service is sought to have been rendered by the banks to borrowers against the charges.', '(Service Tax Appeal No.', '511 of 2011-LB)\\n\\nThe Hon’ble High Court of Bombay in the matter of Bai Mumbai Trust Vs Suchitra pronounced that the services of Court Receiver are to be considered as services provided by the Court itself and it is specifically excluded from definition of supply as per schedule III.', 'Also, held that compensation paid as damages for violation of a legal obligation was not a supply under GST.', '(Court Receiver’s Report No.', '213 Of 2017 in Commercial Suit (L) No.', '236 of 2017)\\n\\nWith the contrasting view of the authorities, the matter has always been controversial and problematic for the taxpayers.', 'Recent clarification (Circular No.', '178/10/2022-GST dated 3rd August 2022)\\n\\nTo remove the ambiguities and resolve the litigative point of views, the Central Board of Indirect Taxes and Customs (Board) issued a circular clarifying the applicability of GST on various charges arising out of the breach of contract.', 'The Board has divided and explained the scope of entry 5(e) in Schedule II in following three segments:\\n\\nAgreeing to the obligation to refrain from an act\\n\\nAgreeing to the obligation to tolerate an act or a situation\\n\\nAgreeing to the obligation to do an act\\n\\nAs per the clarification, to classify any transaction under the scope of relevant entry of Schedule II, there should be nexus between the supply (i.e., agreement to do or to abstain from doing something) and consideration.', 'In addition to the said nexus, following essentials are required to classify the activity or transaction under the relevant entry:\\n\\nThere must be a contract or agreement (whether implied or expressed) for the activity or transaction\\n\\nThe contractual obligation should be an independent arrangement.', 'It could be independent stand-alone contract or may form part of another contract\\n\\nConsideration must flow in return from one party to another party of the agreement/contract\\n\\nFurther, the Board issued a detailed clarification on the following transactions:\\n\\nLiquidated damages are not taxable as mere flow of money from the party who caused the breach of contract would not constitute as a consideration to supply.', 'If, the payment classifies to be consideration then the charges would be taxable.', 'Further, the damages received are payments for not tolerating the breach of contract and deterring non-performance.', 'Compensation for cancellation of coal blocks is not taxable as it is clarified that the compensation is as per terms of order of Supreme court (or other judicial forums as per intention) and not because of contract between the Government and allotees.', 'Cheque Dishonour penalty is not taxable as the fine cannot be said to be consideration for any service and is imposed for not tolerating, penalising, and discouraging such act.', 'Penalty imposed for violation of laws is not taxable under GST as the fine is not for tolerating the violation but for not tolerating, penalising, and discouraging such violation of law.', 'Further, no contract or agreement between the violator and the Government exists.', 'Forfeiture of salary or payment of bond amount in the event of the employee leaving the employment before the minimum agreed period is not taxable as the employee does not get anything in return from employer against the payment of bond amount and thus cannot be said to be consideration.', 'Also, the charges are for discouraging non serious candidates from taking employment.', 'Compensation for not collecting toll charges is classified as not taxable as the nature of the service provided by toll operators remains same irrespective of the fact from whom the consideration has been received.', 'Late payment surcharge or fee is a facility granted for accepting late payment.', 'It is an ancillary supply supplied in conjunction with the principal supply.', 'Therefore, it should be assessed at the same rate as the principal supply.', 'Fixed Capacity Charges for power is not taxable as it cannot be said to be a charge for tolerating the act of not consuming the electricity or consuming at least minimum contracted electricity.', 'Further, they are charged for sale of electricity and electricity is exempt from GST.', 'Cancellation charges charged for allowing cancellation of an intended supply should be assessed at same rate as the principal supply.', 'Further, forfeiture of earnest deposit is not taxable as it is a mere flow of money and cannot be considered as consideration for tolerating the act.', 'It has been highlighted that taxability for the said transactions shall vary from case-to-case basis.', 'Therefore, each activity needs to be analysed in detail as to whether it could be classified under the service by way of agreeing to the obligation to refrain from an act or to tolerate an act or to do an act.', 'Open Issues\\n\\nThe circular has unquestionably been successful at solving a good deal of queries related to taxability of liquidated damages, notice pay and various penalties.', 'However, some issues such as the following continue to remain open:\\n\\nTaxes collected by the authorities on said transactions till now is in violation of Article 265 of the Constitution of India as taxes were imposed without the authority of law\\n\\nCirculars issued by authorities are never binding on the Courts or taxpayers.', 'Therefore, the taxpayers may opt not to follow the clarification where the position under the tax is not beneficial for them which would ultimately lead to extensive litigations\\n\\nWhether the recipients who availed input tax credit for the supply would be required to reverse the same\\n\\nWhether the supplier can file an application for refund of taxes paid for the supply of such services if the tax incidence is not passed\\n\\nFurther course of action with respect to the ongoing proceedings at different levels on this matter\\n\\nFor taxability of liquidated damages, one must analyse whether the payment constitutes consideration for independent contract or not.', 'Accordingly, the authorities are still in power to decide the taxability of such payments which would lead to further litigations\\n\\nAmbiguity exists with respect to classification of forfeiture of earnest money as liquidated damages or cancellation charges\\n\\nThe circular stated pre-payment penalty charges in case of early repayment of loan to be a supply ancillary to the principal supply.', 'Whereas the larger bench of CESTAT Chennai (as cited above) has given a contrasting opinion on the foreclosure charges charged by the financial institutions\\n\\nAlthough the clarification has been observed as a welcome move by the industry, which was long overdue, the subsequent concerns that have emerged are required to be resolved by the Board once and for all.']\n"
     ]
    }
   ],
   "source": [
    "#tokenization\n",
    "text=corpus\n",
    "sentence_list=nltk.sent_tokenize(text)\n",
    "print(sentence_list)"
   ]
  },
  {
   "cell_type": "code",
   "execution_count": 6,
   "id": "99a882e2",
   "metadata": {},
   "outputs": [],
   "source": [
    "# a function to return a simple greeting response to user\n",
    "def greeting_response(text):\n",
    "  text=text.lower()\n",
    "  bot_greetings=['howdy','hi','hey','hello','hola']\n",
    "  user_greetings=['hi','hey','hello','hola','greeting','was']\n",
    "  for word in text.split():\n",
    "    for word in user_greetings:\n",
    "      return random.choice(bot_greetings)"
   ]
  },
  {
   "cell_type": "code",
   "execution_count": 7,
   "id": "085c968e",
   "metadata": {},
   "outputs": [],
   "source": [
    "def index_sort(list_var):\n",
    "  length=len(list_var)\n",
    "  list_index=list(range(0,length))\n",
    "\n",
    "  x=list_var\n",
    "  for i in range(length):\n",
    "    for j in range(length):\n",
    "      if x[list_index[i]]> x[list_index[j]]:\n",
    "       temp=list_index[i]\n",
    "       list_index[i]=list_index[j]\n",
    "       list_index[j]=temp\n",
    "\n",
    "  return list_index\n"
   ]
  },
  {
   "cell_type": "code",
   "execution_count": 8,
   "id": "0aed43fd",
   "metadata": {},
   "outputs": [],
   "source": [
    "#creat the bots response\n",
    "def bot_response(user_input):\n",
    "  user_input=user_input.lower()\n",
    "  sentence_list.append(user_input)\n",
    "  bot_response=''\n",
    "  cm=CountVectorizer().fit_transform(sentence_list)\n",
    "  similarity_scores=cosine_similarity(cm[-1],cm)\n",
    "  similarity_scores_list=similarity_scores.flatten()\n",
    "  index=index_sort(similarity_scores_list)\n",
    "  index=index[1:]\n",
    "  response_flag=0\n",
    "\n",
    "  j=0\n",
    "  for i in range(len(index)):\n",
    "    if similarity_scores_list[index[i]]>0.0:\n",
    "      bot_response=bot_response+' '+ sentence_list[index[i]]\n",
    "      response_flag=1\n",
    "      j=j+1\n",
    "    if j>2:\n",
    "      break\n",
    "  if response_flag==0:\n",
    "    bot_response=bot_response+' '+\"I aplogize, I dont undestand you!\"\n",
    "  sentence_list.remove(user_input)\n",
    "  return bot_response"
   ]
  },
  {
   "cell_type": "code",
   "execution_count": 9,
   "id": "9a944f74",
   "metadata": {},
   "outputs": [
    {
     "name": "stdout",
     "output_type": "stream",
     "text": [
      "CodeCluse Bot: I am your bussiness adviser for short. I will help you!\n",
      "hi\n",
      "CodeClause Bot:hola\n",
      "hey\n",
      "CodeClause Bot:hey\n",
      "hello\n",
      "CodeClause Bot:howdy\n",
      "bey\n",
      "CodeClause Bot:hi\n",
      "hello\n",
      "CodeClause Bot:hey\n",
      "hello\n",
      "CodeClause Bot:hey\n",
      "bye\n",
      "CodeClause Bot: Chat with you later!\n"
     ]
    }
   ],
   "source": [
    "print(\"CodeCluse Bot: I am your bussiness adviser for short. I will help you!\")\n",
    "exit_list=['exit','see you later','bye','qute','break']\n",
    "while(True):\n",
    "  user_input=input()\n",
    "  if user_input.lower() in exit_list:\n",
    "    print(\"CodeClause Bot: Chat with you later!\")\n",
    "    break\n",
    "  else:\n",
    "    if greeting_response(user_input) != None:\n",
    "      print(\"CodeClause Bot:\"+greeting_response(user_input))\n",
    "    else:\n",
    "      print(\"CodeCluse Bot:\"+ bot_response(user_input))\n"
   ]
  },
  {
   "cell_type": "code",
   "execution_count": null,
   "id": "1b7ff68b",
   "metadata": {},
   "outputs": [],
   "source": []
  },
  {
   "cell_type": "code",
   "execution_count": null,
   "id": "b9ea6dc3",
   "metadata": {},
   "outputs": [],
   "source": []
  }
 ],
 "metadata": {
  "kernelspec": {
   "display_name": "Python 3 (ipykernel)",
   "language": "python",
   "name": "python3"
  },
  "language_info": {
   "codemirror_mode": {
    "name": "ipython",
    "version": 3
   },
   "file_extension": ".py",
   "mimetype": "text/x-python",
   "name": "python",
   "nbconvert_exporter": "python",
   "pygments_lexer": "ipython3",
   "version": "3.10.9"
  }
 },
 "nbformat": 4,
 "nbformat_minor": 5
}
